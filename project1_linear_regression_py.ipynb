{
  "nbformat": 4,
  "nbformat_minor": 0,
  "metadata": {
    "colab": {
      "name": "project1_linear_regression.py",
      "provenance": [],
      "collapsed_sections": [],
      "include_colab_link": true
    },
    "kernelspec": {
      "name": "python3",
      "display_name": "Python 3"
    },
    "accelerator": "GPU"
  },
  "cells": [
    {
      "cell_type": "markdown",
      "metadata": {
        "id": "view-in-github",
        "colab_type": "text"
      },
      "source": [
        "<a href=\"https://colab.research.google.com/github/ahmedhassan97/regression-using-one-variable/blob/master/project1_linear_regression_py.ipynb\" target=\"_parent\"><img src=\"https://colab.research.google.com/assets/colab-badge.svg\" alt=\"Open In Colab\"/></a>"
      ]
    },
    {
      "cell_type": "code",
      "metadata": {
        "id": "beWJ_mhYz4Tb",
        "colab_type": "code",
        "colab": {}
      },
      "source": [
        "import numpy as np\n",
        "import pandas as pd\n",
        "import matplotlib.pyplot as plt"
      ],
      "execution_count": 0,
      "outputs": []
    },
    {
      "cell_type": "code",
      "metadata": {
        "id": "9T2WZXNx0NGO",
        "colab_type": "code",
        "colab": {}
      },
      "source": [
        "path = 'data.csv'\n",
        "data = pd.read_csv(path, header=None, names=['Population',\n",
        "'Profit'])"
      ],
      "execution_count": 0,
      "outputs": []
    },
    {
      "cell_type": "code",
      "metadata": {
        "id": "wiyxIUwl0iRv",
        "colab_type": "code",
        "outputId": "3daff734-9d14-4518-a858-2df47a8458f8",
        "colab": {
          "base_uri": "https://localhost:8080/",
          "height": 759
        }
      },
      "source": [
        "#show data details\n",
        "print('data = \\n' ,data.head(10) )\n",
        "print('**************************************')\n",
        "print('data.describe = \\n',data.describe())\n",
        "print('**************************************')\n",
        "#draw data\n",
        "data.plot(kind='scatter', x='Population', y='Profit', figsize=(5,5))"
      ],
      "execution_count": 27,
      "outputs": [
        {
          "output_type": "stream",
          "text": [
            "data = \n",
            "    Population   Profit\n",
            "0      6.1101  17.5920\n",
            "1      5.5277   9.1302\n",
            "2      8.5186  13.6620\n",
            "3      7.0032  11.8540\n",
            "4      5.8598   6.8233\n",
            "5      8.3829  11.8860\n",
            "6      7.4764   4.3483\n",
            "7      8.5781  12.0000\n",
            "8      6.4862   6.5987\n",
            "9      5.0546   3.8166\n",
            "**************************************\n",
            "data.describe = \n",
            "        Population     Profit\n",
            "count   97.000000  97.000000\n",
            "mean     8.159800   5.839135\n",
            "std      3.869884   5.510262\n",
            "min      5.026900  -2.680700\n",
            "25%      5.707700   1.986900\n",
            "50%      6.589400   4.562300\n",
            "75%      8.578100   7.046700\n",
            "max     22.203000  24.147000\n",
            "**************************************\n"
          ],
          "name": "stdout"
        },
        {
          "output_type": "execute_result",
          "data": {
            "text/plain": [
              "<matplotlib.axes._subplots.AxesSubplot at 0x7fbe1b71b0b8>"
            ]
          },
          "metadata": {
            "tags": []
          },
          "execution_count": 27
        },
        {
          "output_type": "display_data",
          "data": {
            "image/png": "[encoded data removed]",
            "text/plain": [
              "<Figure size 360x360 with 1 Axes>"
            ]
          },
          "metadata": {
            "tags": []
          }
        }
      ]
    },
    {
      "cell_type": "code",
      "metadata": {
        "id": "QrnXygZR1NuA",
        "colab_type": "code",
        "outputId": "e2ac311e-275e-4668-cc2f-cab0f535461b",
        "colab": {
          "base_uri": "https://localhost:8080/",
          "height": 238
        }
      },
      "source": [
        "# adding a new column called ones before the data\n",
        "data.insert(0, 'Ones', 1)\n",
        "print('new data = \\n' ,data.head(10) )\n",
        "print('**************************************')\n",
        "\n",
        "\n"
      ],
      "execution_count": 28,
      "outputs": [
        {
          "output_type": "stream",
          "text": [
            "new data = \n",
            "    Ones  Population   Profit\n",
            "0     1      6.1101  17.5920\n",
            "1     1      5.5277   9.1302\n",
            "2     1      8.5186  13.6620\n",
            "3     1      7.0032  11.8540\n",
            "4     1      5.8598   6.8233\n",
            "5     1      8.3829  11.8860\n",
            "6     1      7.4764   4.3483\n",
            "7     1      8.5781  12.0000\n",
            "8     1      6.4862   6.5987\n",
            "9     1      5.0546   3.8166\n",
            "**************************************\n"
          ],
          "name": "stdout"
        }
      ]
    },
    {
      "cell_type": "code",
      "metadata": {
        "id": "oQwzAazPzerO",
        "colab_type": "code",
        "colab": {
          "base_uri": "https://localhost:8080/",
          "height": 255
        },
        "outputId": "a01428a6-90d4-4780-fbd4-e229ff9b5f1a"
      },
      "source": [
        "# separate X (training data) from y (target variable)\n",
        "#print number of column (97*3)\n",
        "cols = data.shape[1]  \n",
        "print(cols)\n",
        "X = data.iloc[:,0:cols-1]\n",
        "y = data.iloc[:,cols-1:cols]\n",
        "\n",
        "#print('new data = \\n' ,X.head(10) )\n",
        "#print('new data = \\n' ,y.head(10) )\n",
        "\n",
        "####################################################################################\n",
        "\n",
        "# convert from data frames to numpy matrices\n",
        "X = np.matrix(X.values)\n",
        "y = np.matrix(y.values)\n",
        "theta = np.matrix(np.array([0,0]))\n",
        "#print('X \\n',X)\n",
        "#print('X.shape = ' , X.shape)\n",
        "#print('theta \\n',theta)\n",
        "#print('theta.shape = ' , theta.shape)\n",
        "#print('y \\n',y)\n",
        "#print('y.shape = ' , y.shape)\n",
        "#print('**************************************')\n",
        "\n",
        "##################################################################################################\n",
        "# cost function\n",
        "def computeCost(X, y, theta):\n",
        "\n",
        "  z = np.power(((X * theta.T) - y), 2)\n",
        "  #print('z \\n',z)\n",
        "  #print(z.shape)\n",
        "  #print('m ' ,len(X))\n",
        "  return np.sum(z) / (2 * len(X))\n",
        " \n",
        "print('computeCost(X, y, theta) = ' , computeCost(X, y, theta))\n",
        "#print('**************************************')\n",
        "\n",
        "###################################################################################################\n",
        "\n",
        "# GD function\n",
        "def gradientDescent(X, y, theta, alpha, iters):\n",
        "  temp = np.matrix(np.zeros(theta.shape))\n",
        "  parameters = int(theta.ravel().shape[1])\n",
        "  #print(\"temp is \",temp)\n",
        "  #print(\"parameters is \",parameters)\n",
        "  cost = np.zeros(iters)\n",
        "\n",
        "  for i in range(iters):\n",
        "    error = (X * theta.T) - y\n",
        "    for j in range(parameters):\n",
        "      term = np.multiply(error, X[:,j])\n",
        "      temp[0,j] = theta[0,j] - ((alpha / len(X)) * np.sum(term))\n",
        "      theta = temp\n",
        "      cost[i] = computeCost(X, y, theta)\n",
        "  return theta, cost\n",
        "  \n",
        "\n",
        "\n",
        "  ##################################################################################################\n",
        "\n",
        "# initialize variables for learning rate and iterations\n",
        "alpha = 0.01\n",
        "iters = 100000\n",
        "# perform gradient descent to \"fit\" the model parameters\n",
        "\n",
        "g, cost = gradientDescent(X, y, theta, alpha, iters)\n",
        "print('g = ' , g)\n",
        "print('cost = ' , cost[0:50] )\n",
        "print('computeCost = ' , computeCost(X, y, g))\n",
        "print('**************************************')"
      ],
      "execution_count": 85,
      "outputs": [
        {
          "output_type": "stream",
          "text": [
            "3\n",
            "computeCost(X, y, theta) =  32.072733877455676\n",
            "g =  [[-3.89578088  1.19303364]]\n",
            "cost =  [6.73719046 5.93159357 5.90115471 5.89522859 5.89009494 5.88500416\n",
            " 5.87993248 5.87487909 5.86984391 5.86482687 5.85982789 5.85484692\n",
            " 5.84988389 5.84493874 5.8400114  5.83510181 5.8302099  5.82533562\n",
            " 5.82047889 5.81563965 5.81081784 5.8060134  5.80122627 5.79645638\n",
            " 5.79170367 5.78696808 5.78224955 5.77754801 5.77286341 5.76819568\n",
            " 5.76354477 5.75891061 5.75429313 5.7496923  5.74510803 5.74054027\n",
            " 5.73598897 5.73145406 5.72693549 5.72243319 5.71794711 5.71347718\n",
            " 5.70902336 5.70458558 5.70016379 5.69575792 5.69136792 5.68699373\n",
            " 5.6826353  5.67829257]\n",
            "computeCost =  4.476971375975179\n",
            "**************************************\n"
          ],
          "name": "stdout"
        }
      ]
    },
    {
      "cell_type": "code",
      "metadata": {
        "id": "J4JIy3G62J0X",
        "colab_type": "code",
        "colab": {}
      },
      "source": [
        ""
      ],
      "execution_count": 0,
      "outputs": []
    },
    {
      "cell_type": "code",
      "metadata": {
        "id": "Ih4Qe_Wc08YR",
        "colab_type": "code",
        "colab": {}
      },
      "source": [
        ""
      ],
      "execution_count": 0,
      "outputs": []
    }
  ]
}