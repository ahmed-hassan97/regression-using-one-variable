{
  "nbformat": 4,
  "nbformat_minor": 0,
  "metadata": {
    "colab": {
      "name": "project1_linear_regression.py",
      "provenance": [],
      "collapsed_sections": [],
      "include_colab_link": true
    },
    "kernelspec": {
      "name": "python3",
      "display_name": "Python 3"
    },
    "accelerator": "GPU"
  },
  "cells": [
    {
      "cell_type": "markdown",
      "metadata": {
        "id": "view-in-github",
        "colab_type": "text"
      },
      "source": [
        "<a href=\"https://colab.research.google.com/github/ahmedhassan97/regression-using-one-variable/blob/master/project1_linear_regression_py.ipynb\" target=\"_parent\"><img src=\"https://colab.research.google.com/assets/colab-badge.svg\" alt=\"Open In Colab\"/></a>"
      ]
    },
    {
      "cell_type": "code",
      "metadata": {
        "id": "beWJ_mhYz4Tb",
        "colab_type": "code",
        "colab": {}
      },
      "source": [
        "import numpy as np\n",
        "import pandas as pd\n",
        "import matplotlib.pyplot as plt"
      ],
      "execution_count": 0,
      "outputs": []
    },
    {
      "cell_type": "code",
      "metadata": {
        "id": "9T2WZXNx0NGO",
        "colab_type": "code",
        "colab": {}
      },
      "source": [
        "path = 'data.csv'\n",
        "data = pd.read_csv(path, header=None, names=['Population',\n",
        "'Profit'])"
      ],
      "execution_count": 0,
      "outputs": []
    },
    {
      "cell_type": "code",
      "metadata": {
        "id": "wiyxIUwl0iRv",
        "colab_type": "code",
        "outputId": "3daff734-9d14-4518-a858-2df47a8458f8",
        "colab": {
          "base_uri": "https://localhost:8080/",
          "height": 759
        }
      },
      "source": [
        "#show data details\n",
        "print('data = \\n' ,data.head(10) )\n",
        "print('**************************************')\n",
        "print('data.describe = \\n',data.describe())\n",
        "print('**************************************')\n",
        "#draw data\n",
        "data.plot(kind='scatter', x='Population', y='Profit', figsize=(5,5))"
      ],
      "execution_count": 27,
      "outputs": [
        {
          "output_type": "stream",
          "text": [
            "data = \n",
            "    Population   Profit\n",
            "0      6.1101  17.5920\n",
            "1      5.5277   9.1302\n",
            "2      8.5186  13.6620\n",
            "3      7.0032  11.8540\n",
            "4      5.8598   6.8233\n",
            "5      8.3829  11.8860\n",
            "6      7.4764   4.3483\n",
            "7      8.5781  12.0000\n",
            "8      6.4862   6.5987\n",
            "9      5.0546   3.8166\n",
            "**************************************\n",
            "data.describe = \n",
            "        Population     Profit\n",
            "count   97.000000  97.000000\n",
            "mean     8.159800   5.839135\n",
            "std      3.869884   5.510262\n",
            "min      5.026900  -2.680700\n",
            "25%      5.707700   1.986900\n",
            "50%      6.589400   4.562300\n",
            "75%      8.578100   7.046700\n",
            "max     22.203000  24.147000\n",
            "**************************************\n"
          ],
          "name": "stdout"
        },
        {
          "output_type": "execute_result",
          "data": {
            "text/plain": [
              "<matplotlib.axes._subplots.AxesSubplot at 0x7fbe1b71b0b8>"
            ]
          },
          "metadata": {
            "tags": []
          },
          "execution_count": 27
        },
        {
          "output_type": "display_data",
          "data": {
            "image/png": "[encoded data removed]",
            "text/plain": [
              "<Figure size 360x360 with 1 Axes>"
            ]
          },
          "metadata": {
            "tags": []
          }
        }
      ]
    },
    {
      "cell_type": "code",
      "metadata": {
        "id": "QrnXygZR1NuA",
        "colab_type": "code",
        "outputId": "e2ac311e-275e-4668-cc2f-cab0f535461b",
        "colab": {
          "base_uri": "https://localhost:8080/",
          "height": 238
        }
      },
      "source": [
        "# adding a new column called ones before the data\n",
        "data.insert(0, 'Ones', 1)\n",
        "print('new data = \\n' ,data.head(10) )\n",
        "print('**************************************')\n",
        "\n",
        "\n"
      ],
      "execution_count": 28,
      "outputs": [
        {
          "output_type": "stream",
          "text": [
            "new data = \n",
            "    Ones  Population   Profit\n",
            "0     1      6.1101  17.5920\n",
            "1     1      5.5277   9.1302\n",
            "2     1      8.5186  13.6620\n",
            "3     1      7.0032  11.8540\n",
            "4     1      5.8598   6.8233\n",
            "5     1      8.3829  11.8860\n",
            "6     1      7.4764   4.3483\n",
            "7     1      8.5781  12.0000\n",
            "8     1      6.4862   6.5987\n",
            "9     1      5.0546   3.8166\n",
            "**************************************\n"
          ],
          "name": "stdout"
        }
      ]
    },
    {
      "cell_type": "code",
      "metadata": {
        "id": "oQwzAazPzerO",
        "colab_type": "code",
        "colab": {
          "base_uri": "https://localhost:8080/",
          "height": 384
        },
        "outputId": "13f9188c-4b95-4a72-f072-4e471ab10fff"
      },
      "source": [
        "# separate X (training data) from y (target variable)\n",
        "#print number of column (97*3)\n",
        "cols = data.shape[1]  \n",
        "print(cols)\n",
        "X = data.iloc[:,0:cols-1]\n",
        "y = data.iloc[:,cols-1:cols]\n",
        "\n",
        "#print('new data = \\n' ,X.head(10) )\n",
        "#print('new data = \\n' ,y.head(10) )\n",
        "\n",
        "####################################################################################\n",
        "\n",
        "# convert from data frames to numpy matrices\n",
        "X = np.matrix(X.values)\n",
        "y = np.matrix(y.values)\n",
        "theta = np.matrix(np.array([0,0]))\n",
        "#print('X \\n',X)\n",
        "#print('X.shape = ' , X.shape)\n",
        "#print('theta \\n',theta)\n",
        "#print('theta.shape = ' , theta.shape)\n",
        "#print('y \\n',y)\n",
        "#print('y.shape = ' , y.shape)\n",
        "#print('**************************************')\n",
        "\n",
        "##################################################################################################\n",
        "# cost function\n",
        "def computeCost(X, y, theta):\n",
        "\n",
        "  z = np.power(((X * theta.T) - y), 2)\n",
        "  #print('z \\n',z)\n",
        "  #print(z.shape)\n",
        "  #print('m ' ,len(X))\n",
        "  return np.sum(z) / (2 * len(X))\n",
        " \n",
        "##print('computeCost(X, y, theta) = ' , computeCost(X, y, theta))\n",
        "#print('**************************************')\n",
        "\n",
        "###################################################################################################\n",
        "\n",
        "# GD function\n",
        "def gradientDescent(X, y, theta, alpha, iters):\n",
        "  temp = np.matrix(np.zeros(theta.shape))\n",
        "  parameters = int(theta.ravel().shape[1])\n",
        "  #print(\"temp is \",temp)\n",
        "  #print(\"parameters is \",parameters)\n",
        "  cost = np.zeros(iters)\n",
        "\n",
        "  for i in range(iters):\n",
        "    error = (X * theta.T) - y\n",
        "    for j in range(parameters):\n",
        "      term = np.multiply(error, X[:,j])\n",
        "      temp[0,j] = theta[0,j] - ((alpha / len(X)) * np.sum(term))\n",
        "      theta = temp\n",
        "    cost[i] = computeCost(X, y, theta)\n",
        "  return theta, cost\n",
        "  \n",
        "\n",
        "\n",
        "  ##################################################################################################\n",
        "\n",
        "# initialize variables for learning rate and iterations\n",
        "alpha = 0.01\n",
        "iters = 10000\n",
        "# perform gradient descent to \"fit\" the model parameters\n",
        "\n",
        "g, cost = gradientDescent(X, y, theta, alpha, iters)\n",
        "#print('g = ' , g)\n",
        "#print('cost = ' , cost[0:50] )\n",
        "#print('computeCost = ' , computeCost(X, y, g))\n",
        "#print('**************************************')\n",
        "\n",
        "###########################################################################\n",
        "\n",
        "# get best fit line\n",
        "x = np.linspace(data.Population.min(), data.Population.max(),100)\n",
        "#print('x \\n',x)\n",
        "#print('g \\n',g)\n",
        "f = g[0, 0] + (g[0, 1] * x)\n",
        "#print('f \\n',f)\n",
        "\n",
        "###################################################################################\n",
        "\n",
        "# draw the line\n",
        "fig, ax = plt.subplots(figsize=(5,5))\n",
        "ax.plot(x, f, 'r', label='Prediction')\n",
        "ax.scatter(data.Population, data.Profit, label='Traning Data')\n",
        "ax.legend()\n",
        "ax.set_xlabel('Population')\n",
        "ax.set_ylabel('Profit')\n",
        "ax.set_title('Predicted Profit vs. Population Size')"
      ],
      "execution_count": 106,
      "outputs": [
        {
          "output_type": "stream",
          "text": [
            "3\n"
          ],
          "name": "stdout"
        },
        {
          "output_type": "execute_result",
          "data": {
            "text/plain": [
              "Text(0.5, 1.0, 'Predicted Profit vs. Population Size')"
            ]
          },
          "metadata": {
            "tags": []
          },
          "execution_count": 106
        },
        {
          "output_type": "display_data",
          "data": {
            "image/png": "[encoded data removed]",
            "text/plain": [
              "<Figure size 360x360 with 1 Axes>"
            ]
          },
          "metadata": {
            "tags": []
          }
        }
      ]
    },
    {
      "cell_type": "code",
      "metadata": {
        "id": "J4JIy3G62J0X",
        "colab_type": "code",
        "colab": {
          "base_uri": "https://localhost:8080/",
          "height": 367
        },
        "outputId": "2fadcc26-75b1-42c3-c36a-8c1a2cfb27a5"
      },
      "source": [
        "# draw error graph\n",
        "fig, ax = plt.subplots(figsize=(5,5))\n",
        "ax.plot(np.arange(iters), cost, 'r')\n",
        "ax.set_xlabel('Iterations')\n",
        "ax.set_ylabel('Cost')\n",
        "ax.set_title('Error vs. Training Epoch')"
      ],
      "execution_count": 107,
      "outputs": [
        {
          "output_type": "execute_result",
          "data": {
            "text/plain": [
              "Text(0.5, 1.0, 'Error vs. Training Epoch')"
            ]
          },
          "metadata": {
            "tags": []
          },
          "execution_count": 107
        },
        {
          "output_type": "display_data",
          "data": {
            "image/png": "[encoded data removed]",
            "text/plain": [
              "<Figure size 360x360 with 1 Axes>"
            ]
          },
          "metadata": {
            "tags": []
          }
        }
      ]
    },
    {
      "cell_type": "code",
      "metadata": {
        "id": "Ih4Qe_Wc08YR",
        "colab_type": "code",
        "colab": {}
      },
      "source": [
        ""
      ],
      "execution_count": 0,
      "outputs": []
    }
  ]
}